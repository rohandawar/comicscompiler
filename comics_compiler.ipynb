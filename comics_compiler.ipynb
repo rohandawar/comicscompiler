{
 "metadata": {
  "language_info": {
   "codemirror_mode": {
    "name": "ipython",
    "version": 3
   },
   "file_extension": ".py",
   "mimetype": "text/x-python",
   "name": "python",
   "nbconvert_exporter": "python",
   "pygments_lexer": "ipython3",
   "version": "3.7.3"
  },
  "orig_nbformat": 2,
  "kernelspec": {
   "name": "python37364bitf54db94c92334398a1dd0937e883c85d",
   "display_name": "Python 3.7.3 64-bit"
  },
  "metadata": {
   "interpreter": {
    "hash": "204e9af3e040ab148c93d346dae85f9991adf4e4763ba617abf9640a839e41c1"
   }
  }
 },
 "nbformat": 4,
 "nbformat_minor": 2,
 "cells": [
  {
   "cell_type": "code",
   "execution_count": 1,
   "metadata": {},
   "outputs": [],
   "source": [
    "from PIL import Image\n",
    "import os\n",
    "from pyunpack import Archive\n",
    "import shutil\n",
    "import time\n",
    "import patoolib"
   ]
  },
  {
   "cell_type": "code",
   "execution_count": 2,
   "metadata": {},
   "outputs": [],
   "source": [
    "#patoolib.extract_archive(r'C:\\Users\\rdawar\\Documents\\comics_test_folder\\IJC 016-1965 ThePhantom TheDiamondCup.cbr')"
   ]
  },
  {
   "cell_type": "code",
   "execution_count": 3,
   "metadata": {},
   "outputs": [],
   "source": [
    "#folder defination\n",
    "master_folder = (r'C:\\Users\\rdawar\\Documents\\Comics')\n",
    "pdf_folder = (r'C:\\Users\\rdawar\\Documents\\Comics\\converted_pdf\\\\')"
   ]
  },
  {
   "cell_type": "code",
   "execution_count": 4,
   "metadata": {},
   "outputs": [],
   "source": [
    "#make the desired folders\n",
    "os.makedirs(pdf_folder)"
   ]
  },
  {
   "cell_type": "code",
   "execution_count": 5,
   "metadata": {},
   "outputs": [
    {
     "output_type": "stream",
     "name": "stderr",
     "text": [
      "C:\\Users\\rdawar\\AppData\\Roaming\\Python\\Python37\\site-packages\\ipykernel_launcher.py:2: DeprecationWarning: time.clock has been deprecated in Python 3.3 and will be removed from Python 3.8: use time.perf_counter or time.process_time instead\n",
      "  \n",
      "patool: Extracting Phantom\\IJC 016-1965 ThePhantom TheDiamondCup.cbr ...\n",
      "patool: running \"C:\\Program Files\\7-Zip\\7z.EXE\" x -o.\\Unpack_bt7ptpgi -- \"Phantom\\IJC 016-1965 ThePhantom TheDiamondCup.cbr\"\n",
      "patool: ... Phantom\\IJC 016-1965 ThePhantom TheDiamondCup.cbr extracted to `#016 The Diamond Cup'.\n",
      "patool: Extracting Phantom\\IJC 017-1965 ThePhantom TheMysteriousPassenger.cbr ...\n",
      "patool: running \"C:\\Program Files\\7-Zip\\7z.EXE\" x -o.\\Unpack_p5p_zkfj -- \"Phantom\\IJC 017-1965 ThePhantom TheMysteriousPassenger.cbr\"\n",
      "patool: ... Phantom\\IJC 017-1965 ThePhantom TheMysteriousPassenger.cbr extracted to `IJC_017_Phantom_The Mysterious Passenger'.\n",
      "patool: Extracting Phantom\\IJC 019-1965 ThePhantom AndMoogoo'sDolls.cbr ...\n",
      "patool: running \"C:\\Program Files\\7-Zip\\7z.EXE\" x -o.\\Unpack_xw1480rh -- \"Phantom\\IJC 019-1965 ThePhantom AndMoogoo'sDolls.cbr\"\n",
      "patool: ... Phantom\\IJC 019-1965 ThePhantom AndMoogoo'sDolls.cbr extracted to `IJC 019-1965 ThePhantom AndMoogoo'sDolls' (multiple files in root).\n",
      "patool: Extracting Phantom\\IJC 021-1965 ThePhantom KingPepe'sBride.cbr ...\n",
      "patool: running \"C:\\Program Files\\7-Zip\\7z.EXE\" x -o.\\Unpack_odqou6bx -- \"Phantom\\IJC 021-1965 ThePhantom KingPepe'sBride.cbr\"\n",
      "patool: ... Phantom\\IJC 021-1965 ThePhantom KingPepe'sBride.cbr extracted to `IJC_021_Phantom_King Pepe's Bride'.\n",
      "patool: Extracting Phantom\\IJC 022-1965 ThePhantom AStringOfBlackPearls.cbr ...\n",
      "patool: running \"C:\\Program Files\\7-Zip\\7z.EXE\" x -o.\\Unpack_xzzl8xjg -- \"Phantom\\IJC 022-1965 ThePhantom AStringOfBlackPearls.cbr\"\n",
      "patool: ... Phantom\\IJC 022-1965 ThePhantom AStringOfBlackPearls.cbr extracted to `IJC_022_Phantom_A String of Black Pearls'.\n",
      "patool: Extracting Phantom\\IJC 023-1965 ThePhantom TheScarletSorceress.cbr ...\n",
      "patool: running \"C:\\Program Files\\7-Zip\\7z.EXE\" x -o.\\Unpack_8od0f9ye -- \"Phantom\\IJC 023-1965 ThePhantom TheScarletSorceress.cbr\"\n",
      "patool: ... Phantom\\IJC 023-1965 ThePhantom TheScarletSorceress.cbr extracted to `IJC 023-1965 ThePhantom TheScarletSorceress' (multiple files in root).\n",
      "Time Elapsed:  36.2355546\n",
      "C:\\Users\\rdawar\\AppData\\Roaming\\Python\\Python37\\site-packages\\ipykernel_launcher.py:23: DeprecationWarning: time.clock has been deprecated in Python 3.3 and will be removed from Python 3.8: use time.perf_counter or time.process_time instead\n"
     ]
    }
   ],
   "source": [
    "#main Code\n",
    "t0 = time.clock()\n",
    "phantom_folder= os.listdir('Phantom')\n",
    "for filename in phantom_folder:\n",
    "    final_pdf_file_name = filename[24:-4]\n",
    "    #Archive('Phantom\\\\'+filename).extractall(master_folder)\n",
    "    patoolib.extract_archive('Phantom\\\\'+filename)\n",
    "    remove_list = ['comics_compiler.ipynb', 'Phantom', 'converted_pdf']\n",
    "    folder_to_make_file_from = [i for i in os.listdir(master_folder) if i not in remove_list]\n",
    "    folder_to_make_file_from = ''.join(folder_to_make_file_from)\n",
    "    list_of_files = os.listdir(folder_to_make_file_from)\n",
    "    for i in range(0,2):\n",
    "        list_of_files.pop()\n",
    "    \n",
    "    image1 = Image.open(folder_to_make_file_from +'//'+ list_of_files[0])\n",
    "    image1.save(pdf_folder+final_pdf_file_name +'.pdf',  save_all= True) \n",
    "    for name in (list_of_files)[1:]:\n",
    "        image = Image.open(folder_to_make_file_from+'\\\\'+name)\n",
    "        image.save(pdf_folder+final_pdf_file_name +'.pdf',  save_all= True, append=True)\n",
    "    #sleep(1)\n",
    "    shutil.rmtree(folder_to_make_file_from)\n",
    "\n",
    "t1 = time.clock() - t0\n",
    "print('Time Elapsed: ', t1)"
   ]
  },
  {
   "cell_type": "code",
   "execution_count": null,
   "metadata": {},
   "outputs": [],
   "source": []
  },
  {
   "cell_type": "code",
   "execution_count": null,
   "metadata": {},
   "outputs": [],
   "source": []
  },
  {
   "cell_type": "code",
   "execution_count": null,
   "metadata": {},
   "outputs": [],
   "source": []
  },
  {
   "cell_type": "code",
   "execution_count": null,
   "metadata": {},
   "outputs": [],
   "source": []
  },
  {
   "cell_type": "code",
   "execution_count": null,
   "metadata": {},
   "outputs": [],
   "source": []
  },
  {
   "cell_type": "code",
   "execution_count": null,
   "metadata": {},
   "outputs": [],
   "source": []
  },
  {
   "cell_type": "code",
   "execution_count": null,
   "metadata": {},
   "outputs": [],
   "source": []
  },
  {
   "cell_type": "code",
   "execution_count": null,
   "metadata": {},
   "outputs": [],
   "source": []
  },
  {
   "cell_type": "code",
   "execution_count": null,
   "metadata": {},
   "outputs": [],
   "source": []
  }
 ]
}